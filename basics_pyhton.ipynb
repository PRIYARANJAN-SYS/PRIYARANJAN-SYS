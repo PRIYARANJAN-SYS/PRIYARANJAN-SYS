{
 "cells": [
  {
   "cell_type": "code",
   "execution_count": 1,
   "metadata": {},
   "outputs": [
    {
     "name": "stdout",
     "output_type": "stream",
     "text": [
      "10\n"
     ]
    }
   ],
   "source": [
    "a=10\n",
    "print(a)"
   ]
  },
  {
   "cell_type": "markdown",
   "metadata": {},
   "source": [
    "BASIC OPERATIONS IN PYTHON\n"
   ]
  },
  {
   "cell_type": "code",
   "execution_count": 3,
   "metadata": {},
   "outputs": [
    {
     "name": "stdout",
     "output_type": "stream",
     "text": [
      "Sum of a and b is 30\n",
      "Subtraction of a and b is-10\n",
      "Multiplication of a and b is200\n",
      "Division of a and b is0.5\n",
      "floor Division of and b is 2\n"
     ]
    }
   ],
   "source": [
    "a=10\n",
    "b=20\n",
    "sum=a+b\n",
    "sub=a-b\n",
    "multi=a*b\n",
    "division=a/b\n",
    "floor_division=b//a\n",
    "print(f\"Sum of a and b is {sum}\")\n",
    "print(f\"Subtraction of a and b is{sub}\")\n",
    "print(f\"Multiplication of a and b is{multi}\")\n",
    "print(f\"Division of a and b is{division}\")\n",
    "print(f\"floor Division of and b is {floor_division}\")"
   ]
  },
  {
   "cell_type": "code",
   "execution_count": 6,
   "metadata": {},
   "outputs": [
    {
     "name": "stdout",
     "output_type": "stream",
     "text": [
      "Area of square is  25\n",
      "area of rectangle is 600\n",
      "Area of the triangle is 750.0\n"
     ]
    }
   ],
   "source": [
    "side =5\n",
    "print(\"Area of square is \",side*side)\n",
    "\n",
    "l=int(input(\"enter the length of the rectangle\"))\n",
    "b=int(input(\"enter the breath of the rectangle\"))\n",
    "area= l*b\n",
    "print(f\"area of rectangle is {area}\")\n",
    "\n",
    "b=int(input(\"enter the breath of the triangle\"))\n",
    "h=int(input(\"enter the height of the rectangle\"))\n",
    "area_triangle=0.5*b*h\n",
    "print(f\"Area of the triangle is {area_triangle}\")\n"
   ]
  },
  {
   "cell_type": "code",
   "execution_count": 7,
   "metadata": {},
   "outputs": [
    {
     "name": "stdout",
     "output_type": "stream",
     "text": [
      "Simple interest is 96.0\n"
     ]
    }
   ],
   "source": [
    "p=int(input(\"Enter the principle amount\"))\n",
    "r=int(input(\"Enter the rate of interest \"))\n",
    "t=int((input(\"enter the time \")))\n",
    "\n",
    "simple_interest=(p*r*t)/100\n",
    "\n",
    "print(f\"Simple interest is {simple_interest}\")"
   ]
  },
  {
   "cell_type": "code",
   "execution_count": 9,
   "metadata": {},
   "outputs": [
    {
     "name": "stdout",
     "output_type": "stream",
     "text": [
      "The total marks obtained : 462\n",
      "The percentage are are: 92.4\n",
      "Congratulations!! You are promoted to semester III\n"
     ]
    }
   ],
   "source": [
    "s1 = 95\n",
    "s2 = 94\n",
    "s3 = 88\n",
    "s4 = 87\n",
    "s5 = 98\n",
    "\n",
    "total = s1+s2+s3+s4+s5\n",
    "print(\"The total marks obtained :\",total)\n",
    "\n",
    "percentage = (total/500)*100\n",
    "print(\"The percentage are are:\",percentage)\n",
    "print(\"Congratulations!! You are promoted to semester III\")"
   ]
  }
 ],
 "metadata": {
  "kernelspec": {
   "display_name": "Python 3",
   "language": "python",
   "name": "python3"
  },
  "language_info": {
   "codemirror_mode": {
    "name": "ipython",
    "version": 3
   },
   "file_extension": ".py",
   "mimetype": "text/x-python",
   "name": "python",
   "nbconvert_exporter": "python",
   "pygments_lexer": "ipython3",
   "version": "3.10.13"
  }
 },
 "nbformat": 4,
 "nbformat_minor": 2
}
